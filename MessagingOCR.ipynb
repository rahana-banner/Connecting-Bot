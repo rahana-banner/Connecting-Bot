{
 "cells": [
  {
   "cell_type": "code",
   "execution_count": 1,
   "metadata": {},
   "outputs": [],
   "source": [
    "from selenium import webdriver\n",
    "from selenium.webdriver.common.by import By\n",
    "from selenium.webdriver.support.ui import WebDriverWait\n",
    "from selenium.webdriver.support import expected_conditions as EC\n",
    "from selenium.webdriver.firefox.options import Options\n",
    "import time"
   ]
  },
  {
   "cell_type": "code",
   "execution_count": 2,
   "metadata": {},
   "outputs": [],
   "source": [
    "# Set the path to GeckoDriver executable\n",
    "geckodriver_path = \"C:\\\\Users\\\\karbo\\\\geckodriver.exe\"\n",
    "\n",
    "# Create FirefoxOptions object\n",
    "options = Options()\n",
    "options.binary_location = \"C:\\\\Program Files\\\\Mozilla Firefox\\\\firefox.exe\"  # Specify the path to Firefox binary if not in PATH"
   ]
  },
  {
   "cell_type": "code",
   "execution_count": 3,
   "metadata": {},
   "outputs": [],
   "source": [
    "# Set the path to GeckoDriver executable in options\n",
    "options.binary_location = geckodriver_path\n",
    "\n",
    "# Initialize the WebDriver with FirefoxOptions\n",
    "driver = webdriver.Firefox(options=options)"
   ]
  },
  {
   "cell_type": "code",
   "execution_count": 4,
   "metadata": {},
   "outputs": [],
   "source": [
    "# Open LinkedIn login page\n",
    "driver.get(\"https://www.linkedin.com\")\n",
    "\n",
    "# Log in\n",
    "time.sleep(2)\n",
    "\n",
    "username = driver.find_element(By.XPATH, \"//input[@name='session_key']\")\n",
    "password = driver.find_element(By.XPATH, \"//input[@name='session_password']\")\n",
    "\n",
    "username.send_keys('dakac50192@nimadir.com')\n",
    "time.sleep(2)\n",
    "password.send_keys('demo@12345')\n",
    "time.sleep(2)\n",
    "\n",
    "submit = driver.find_element(By.XPATH, \"//button[@type='submit']\").click()"
   ]
  },
  {
   "cell_type": "code",
   "execution_count": 11,
   "metadata": {},
   "outputs": [],
   "source": [
    "time.sleep(5)\n",
    "# Using XPath to locate the button by checking multiple class name parts\n",
    "messaging_button = WebDriverWait(driver, 10).until(\n",
    "    EC.element_to_be_clickable((By.XPATH, \"//button[contains(@class, 'msg-overlay-bubble-header__button') and contains(@class, 'truncate') and contains(@class, 'ml2')]\"))\n",
    ")\n",
    "# Click on the \"Messaging\" button\n",
    "messaging_button.click()"
   ]
  },
  {
   "cell_type": "code",
   "execution_count": 61,
   "metadata": {},
   "outputs": [],
   "source": [
    "# XPath to find a div with the class \"msg-overlay-list-bubble__convo-card-container\" that contains an <h3> with the text \n",
    "message_xpath = \"//h3[contains(@class, 'msg-conversation-listitem__participant-names') and contains(normalize-space(), 'Adnan Rab')]\"\n",
    "\n",
    "conversation_element = WebDriverWait(driver, 10).until(\n",
    "    EC.element_to_be_clickable((By.XPATH, message_xpath))\n",
    ")\n",
    "conversation_element.click()\n",
    "\n",
    "# Clicking the main container\n",
    "main_div = driver.find_element(By.XPATH, \"//div[starts-with(@class, 'msg-form__msg-content-container')]\")\n",
    "main_div.click()\n",
    "time.sleep(2)\n",
    "\n",
    "# Locate the contenteditable div by its class\n",
    "message_box = driver.find_element(By.CSS_SELECTOR, \"div.msg-form__contenteditable[contenteditable='true']\")\n",
    "message_box.click()\n",
    "\n",
    "# Send keys to the message box\n",
    "message_box.send_keys(\"Yes sure!\")\n",
    "time.sleep(2)\n",
    "\n",
    "submit = driver.find_element(By.XPATH, \"//button[@type='submit']\").click()\n",
    "time.sleep(2)\n",
    "\n",
    "# Locate the close button by its text content\n",
    "close_button = WebDriverWait(driver, 10).until(\n",
    "    EC.element_to_be_clickable((By.XPATH, \"//button[contains(., 'Close your conversation')]\"))\n",
    ")\n",
    "\n",
    "# Click the close button\n",
    "close_button.click()"
   ]
  }
 ],
 "metadata": {
  "kernelspec": {
   "display_name": "base",
   "language": "python",
   "name": "python3"
  },
  "language_info": {
   "codemirror_mode": {
    "name": "ipython",
    "version": 3
   },
   "file_extension": ".py",
   "mimetype": "text/x-python",
   "name": "python",
   "nbconvert_exporter": "python",
   "pygments_lexer": "ipython3",
   "version": "3.11.7"
  }
 },
 "nbformat": 4,
 "nbformat_minor": 2
}
