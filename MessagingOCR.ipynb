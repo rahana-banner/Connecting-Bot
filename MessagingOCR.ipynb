{
 "cells": [
  {
   "cell_type": "code",
   "execution_count": 62,
   "metadata": {},
   "outputs": [],
   "source": [
    "from selenium import webdriver\n",
    "from selenium.webdriver.common.by import By\n",
    "from selenium.webdriver.support.ui import WebDriverWait\n",
    "from selenium.webdriver.support import expected_conditions as EC\n",
    "from selenium.webdriver.firefox.options import Options\n",
    "import time"
   ]
  },
  {
   "cell_type": "code",
   "execution_count": 63,
   "metadata": {},
   "outputs": [],
   "source": [
    "# Set the path to GeckoDriver executable\n",
    "geckodriver_path = \"C:\\\\Users\\\\karbo\\\\geckodriver.exe\"\n",
    "\n",
    "# Create FirefoxOptions object\n",
    "options = Options()\n",
    "options.binary_location = \"C:\\\\Program Files\\\\Mozilla Firefox\\\\firefox.exe\"  # Specify the path to Firefox binary if not in PATH"
   ]
  },
  {
   "cell_type": "code",
   "execution_count": 64,
   "metadata": {},
   "outputs": [],
   "source": [
    "# Set the path to GeckoDriver executable in options\n",
    "options.binary_location = geckodriver_path\n",
    "\n",
    "# Initialize the WebDriver with FirefoxOptions\n",
    "driver = webdriver.Firefox(options=options)"
   ]
  },
  {
   "cell_type": "code",
   "execution_count": 66,
   "metadata": {},
   "outputs": [],
   "source": [
    "# Open LinkedIn login page\n",
    "driver.get(\"https://www.linkedin.com\")\n",
    "\n",
    "# Log in\n",
    "time.sleep(2)\n",
    "\n",
    "username = driver.find_element(By.XPATH, \"//input[@name='session_key']\")\n",
    "password = driver.find_element(By.XPATH, \"//input[@name='session_password']\")\n",
    "\n",
    "username.send_keys('bbanushree6@gmail.com')\n",
    "time.sleep(2)\n",
    "password.send_keys('Banu@Shree@8')\n",
    "time.sleep(2)\n",
    "\n",
    "submit = driver.find_element(By.XPATH, \"//button[@type='submit']\").click()"
   ]
  },
  {
   "cell_type": "code",
   "execution_count": 67,
   "metadata": {},
   "outputs": [],
   "source": [
    "time.sleep(5)\n",
    "# Using XPath to locate the button by checking multiple class name parts\n",
    "messaging_button = WebDriverWait(driver, 10).until(\n",
    "    EC.element_to_be_clickable((By.XPATH, \"//button[contains(@class, 'msg-overlay-bubble-header__button') and contains(@class, 'truncate') and contains(@class, 'ml2')]\"))\n",
    ")\n",
    "# Click on the \"Messaging\" button\n",
    "messaging_button.click()"
   ]
  },
  {
   "cell_type": "code",
   "execution_count": 70,
   "metadata": {},
   "outputs": [],
   "source": [
    "# XPath to find a div with the class \"msg-overlay-list-bubble__convo-card-container\" that contains an <h3> with the text \n",
    "message_xpath = \"//h3[contains(@class, 'msg-conversation-listitem__participant-names') and contains(normalize-space(), 'Adnan Rab')]\"\n",
    "\n",
    "conversation_element = WebDriverWait(driver, 10).until(\n",
    "    EC.element_to_be_clickable((By.XPATH, message_xpath))\n",
    ")\n",
    "conversation_element.click()\n",
    "\n",
    "# Clicking the main container\n",
    "main_div = driver.find_element(By.XPATH, \"//div[starts-with(@class, 'msg-form__msg-content-container')]\")\n",
    "main_div.click()\n",
    "time.sleep(2)"
   ]
  },
  {
   "cell_type": "code",
   "execution_count": 80,
   "metadata": {},
   "outputs": [],
   "source": [
    "expand_button = driver.find_element(By.CSS_SELECTOR, \".msg-overlay-bubble-header__control.msg-overlay-conversation-bubble__expand-btn.artdeco-button--circle\")\n",
    "expand_button.click()"
   ]
  },
  {
   "cell_type": "code",
   "execution_count": 81,
   "metadata": {},
   "outputs": [
    {
     "data": {
      "text/plain": [
       "True"
      ]
     },
     "execution_count": 81,
     "metadata": {},
     "output_type": "execute_result"
    }
   ],
   "source": [
    "# Screenshot\n",
    "chat = driver.find_element(By.CSS_SELECTOR, \".msg-convo-wrapper.msg-overlay-conversation-bubble.msg-overlay-conversation-bubble--is-active\")\n",
    "chat.screenshot(\"chat.png\")"
   ]
  },
  {
   "cell_type": "code",
   "execution_count": 87,
   "metadata": {},
   "outputs": [
    {
     "name": "stdout",
     "output_type": "stream",
     "text": [
      "Extracted Text:  Py Adnan Rab\n",
      "\n",
      "You haven't connected with Adnan Rab\n",
      "\n",
      "Message request accepted\n",
      "\n",
      "rd Yes sure!\n",
      "241 PM\n",
      "\n",
      "b Adnan Rab (He/Him)\n",
      "How can I help you Banushree\n",
      "\n",
      "Write a message...\n",
      "\n",
      "GO uw ©\n",
      "\n",
      "ay Xx\n",
      "\n",
      "Pending\n",
      "\n",
      "Send\n",
      "\n"
     ]
    }
   ],
   "source": [
    "from PIL import Image\n",
    "import pytesseract\n",
    "\n",
    "# Set the path to the tesseract executable\n",
    "pytesseract.pytesseract.tesseract_cmd = r'C:\\Program Files\\Tesseract-OCR\\tesseract.exe'  \n",
    "\n",
    "# Replace the path with the path to image file\n",
    "image_path = 'chat.png'\n",
    "image = Image.open(image_path)\n",
    "\n",
    "extracted_text = pytesseract.image_to_string(image)\n",
    "print(\"Extracted Text: \", extracted_text)"
   ]
  },
  {
   "cell_type": "markdown",
   "metadata": {},
   "source": [
    "LLAMA "
   ]
  },
  {
   "cell_type": "code",
   "execution_count": 89,
   "metadata": {},
   "outputs": [
    {
     "ename": "CalledProcessError",
     "evalue": "Command 'pip install llama-cpp-python==0.1.78 numpy==1.23.4 --force-reinstall --upgrade --no-cache-dir --verbose' returned non-zero exit status 1.",
     "output_type": "error",
     "traceback": [
      "\u001b[1;31m---------------------------------------------------------------------------\u001b[0m",
      "\u001b[1;31mCalledProcessError\u001b[0m                        Traceback (most recent call last)",
      "Cell \u001b[1;32mIn[89], line 9\u001b[0m\n\u001b[0;32m      6\u001b[0m os\u001b[38;5;241m.\u001b[39menviron[\u001b[38;5;124m'\u001b[39m\u001b[38;5;124mFORCE_CMAKE\u001b[39m\u001b[38;5;124m'\u001b[39m] \u001b[38;5;241m=\u001b[39m \u001b[38;5;124m'\u001b[39m\u001b[38;5;124m1\u001b[39m\u001b[38;5;124m'\u001b[39m\n\u001b[0;32m      8\u001b[0m \u001b[38;5;66;03m# Execute pip install commands\u001b[39;00m\n\u001b[1;32m----> 9\u001b[0m subprocess\u001b[38;5;241m.\u001b[39mrun(\u001b[38;5;124m\"\u001b[39m\u001b[38;5;124mpip install llama-cpp-python==0.1.78 numpy==1.23.4 --force-reinstall --upgrade --no-cache-dir --verbose\u001b[39m\u001b[38;5;124m\"\u001b[39m, shell\u001b[38;5;241m=\u001b[39m\u001b[38;5;28;01mTrue\u001b[39;00m, check\u001b[38;5;241m=\u001b[39m\u001b[38;5;28;01mTrue\u001b[39;00m)\n\u001b[0;32m     10\u001b[0m subprocess\u001b[38;5;241m.\u001b[39mrun(\u001b[38;5;124m\"\u001b[39m\u001b[38;5;124mpip install huggingface_hub\u001b[39m\u001b[38;5;124m\"\u001b[39m, shell\u001b[38;5;241m=\u001b[39m\u001b[38;5;28;01mTrue\u001b[39;00m, check\u001b[38;5;241m=\u001b[39m\u001b[38;5;28;01mTrue\u001b[39;00m)\n\u001b[0;32m     12\u001b[0m \u001b[38;5;66;03m# Additional installs if needed\u001b[39;00m\n",
      "File \u001b[1;32mc:\\Users\\karbo\\anaconda3\\Lib\\subprocess.py:571\u001b[0m, in \u001b[0;36mrun\u001b[1;34m(input, capture_output, timeout, check, *popenargs, **kwargs)\u001b[0m\n\u001b[0;32m    569\u001b[0m     retcode \u001b[38;5;241m=\u001b[39m process\u001b[38;5;241m.\u001b[39mpoll()\n\u001b[0;32m    570\u001b[0m     \u001b[38;5;28;01mif\u001b[39;00m check \u001b[38;5;129;01mand\u001b[39;00m retcode:\n\u001b[1;32m--> 571\u001b[0m         \u001b[38;5;28;01mraise\u001b[39;00m CalledProcessError(retcode, process\u001b[38;5;241m.\u001b[39margs,\n\u001b[0;32m    572\u001b[0m                                  output\u001b[38;5;241m=\u001b[39mstdout, stderr\u001b[38;5;241m=\u001b[39mstderr)\n\u001b[0;32m    573\u001b[0m \u001b[38;5;28;01mreturn\u001b[39;00m CompletedProcess(process\u001b[38;5;241m.\u001b[39margs, retcode, stdout, stderr)\n",
      "\u001b[1;31mCalledProcessError\u001b[0m: Command 'pip install llama-cpp-python==0.1.78 numpy==1.23.4 --force-reinstall --upgrade --no-cache-dir --verbose' returned non-zero exit status 1."
     ]
    }
   ],
   "source": [
    "import os\n",
    "import subprocess\n",
    "\n",
    "# Set environment variables\n",
    "os.environ['CMAKE_ARGS'] = '-DLLAMA_CUBLAS=on'\n",
    "os.environ['FORCE_CMAKE'] = '1'\n",
    "\n",
    "# Execute pip install commands\n",
    "subprocess.run(\"pip install llama-cpp-python==0.1.78 numpy==1.23.4 --force-reinstall --upgrade --no-cache-dir --verbose\", shell=True, check=True)\n",
    "subprocess.run(\"pip install huggingface_hub\", shell=True, check=True)\n",
    "\n",
    "# Additional installs if needed\n",
    "subprocess.run(\"pip install llama-cpp-python==0.1.78\", shell=True, check=True)\n",
    "subprocess.run(\"pip install numpy==1.23.4\", shell=True, check=True)\n"
   ]
  },
  {
   "cell_type": "code",
   "execution_count": null,
   "metadata": {},
   "outputs": [],
   "source": []
  },
  {
   "cell_type": "code",
   "execution_count": 68,
   "metadata": {},
   "outputs": [],
   "source": [
    "# Locate the contenteditable div by its class\n",
    "message_box = driver.find_element(By.CSS_SELECTOR, \"div.msg-form__contenteditable[contenteditable='true']\")\n",
    "message_box.click()\n",
    "\n",
    "# Send keys to the message box\n",
    "message_box.send_keys(\"Yes sure!\")\n",
    "time.sleep(2)\n",
    "\n",
    "submit = driver.find_element(By.XPATH, \"//button[@type='submit']\").click()\n",
    "time.sleep(2)\n",
    "\n",
    "# Locate the close button by its text content\n",
    "# close_button = WebDriverWait(driver, 10).until( \n",
    "#     EC.element_to_be_clickable((By.XPATH, \"//button[contains(., 'Close your conversation')]\"))\n",
    "# )\n",
    "\n",
    "# # Click the close button\n",
    "# close_button.click()"
   ]
  }
 ],
 "metadata": {
  "kernelspec": {
   "display_name": "base",
   "language": "python",
   "name": "python3"
  },
  "language_info": {
   "codemirror_mode": {
    "name": "ipython",
    "version": 3
   },
   "file_extension": ".py",
   "mimetype": "text/x-python",
   "name": "python",
   "nbconvert_exporter": "python",
   "pygments_lexer": "ipython3",
   "version": "3.11.7"
  }
 },
 "nbformat": 4,
 "nbformat_minor": 2
}
